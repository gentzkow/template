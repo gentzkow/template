{
 "cells": [
  {
   "cell_type": "code",
   "execution_count": 1,
   "metadata": {},
   "outputs": [
    {
     "name": "stdout",
     "output_type": "stream",
     "text": [
      "/Users/zong/template/analysis/code\n"
     ]
    }
   ],
   "source": [
    "import numpy as np\n",
    "import matplotlib.pyplot as plt\n",
    "import os\n",
    "print(os.getcwd())\n",
    "os.chdir('../')\n",
    "\n",
    "def main():\n",
    "    data = np.genfromtxt('input/data_table.txt', skip_header = 1)\n",
    "\n",
    "    with open('output/tables.txt', 'w') as f:\n",
    "        f.write('<tab:table>\\n')\n",
    "        f.write('%s\\n%.3f\\n%d\\n%d' % (np.mean(data), np.std(data, ddof = 1), np.max(data), np.min(data)))\n",
    "\n",
    "# EXECUTE\n",
    "# main()"
   ]
  }
 ],
 "metadata": {
  "kernelspec": {
   "display_name": "Python 2",
   "language": "python",
   "name": "python2"
  },
  "language_info": {
   "codemirror_mode": {
    "name": "ipython",
    "version": 2
   },
   "file_extension": ".py",
   "mimetype": "text/x-python",
   "name": "python",
   "nbconvert_exporter": "python",
   "pygments_lexer": "ipython2",
   "version": "2.7.15"
  }
 },
 "nbformat": 4,
 "nbformat_minor": 2
}
