{
 "cells": [
  {
   "cell_type": "code",
   "execution_count": 1,
   "metadata": {},
   "outputs": [],
   "source": [
    "import numpy as np\n",
    "import matplotlib.pyplot as plt\n",
    "\n",
    "def main():\n",
    "    data = np.genfromtxt('input/data_table.txt', skip_header = 1)\n",
    "    \n",
    "    with open('output/tables.txt', 'w') as f:\n",
    "        f.write('<tab:table>\\n')\n",
    "        f.write('%s\\n%.3f\\n%d\\n%d' % (np.mean(data), np.std(data, ddof = 1), np.max(data), np.min(data)))\n",
    "        \n",
    "# EXECUTE\n",
    "main()"
   ]
  }
 ],
 "metadata": {
  "kernelspec": {
   "display_name": "Python 3",
   "language": "python",
   "name": "python3"
  },
  "language_info": {
   "codemirror_mode": {
    "name": "ipython",
    "version": 3
   },
   "file_extension": ".py",
   "mimetype": "text/x-python",
   "name": "python",
   "nbconvert_exporter": "python",
   "pygments_lexer": "ipython3",
   "version": "3.6.4"
  }
 },
 "nbformat": 4,
 "nbformat_minor": 2
}
